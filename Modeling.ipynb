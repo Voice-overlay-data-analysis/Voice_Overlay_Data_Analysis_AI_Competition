{
 "cells": [
  {
   "cell_type": "code",
   "execution_count": 18,
   "metadata": {},
   "outputs": [],
   "source": [
    "import numpy as np\n",
    "from sklearn.model_selection import train_test_split\n",
    "import tensorflow as tf"
   ]
  },
  {
   "cell_type": "markdown",
   "metadata": {},
   "source": [
    "## Data Load"
   ]
  },
  {
   "cell_type": "code",
   "execution_count": 94,
   "metadata": {},
   "outputs": [],
   "source": [
    "SAVE_PATH = './data/'\n",
    "\n",
    "mfcc = np.load(SAVE_PATH+'mfcc.npy')\n",
    "label = np.load(SAVE_PATH+'label.npy')\n",
    "\n",
    "X_train, X_eval, Y_train, Y_eval = train_test_split(mfcc, label, test_size=0.2)\n",
    "\n",
    "label_cnt = np.unique(Y_train).shape[0]\n",
    "label_name = ['bed', 'bird', 'cat', 'dog', 'down', 'eight', 'five', 'four', 'go',\n",
    "              'happy', 'house', 'left', 'marvin', 'nine', 'no', 'off',\n",
    "              'on', 'one', 'right', 'seven', 'sheila', 'six', 'stop', 'three',\n",
    "              'tree', 'two', 'up', 'wow', 'yes', 'zero', '_background_noise_']"
   ]
  },
  {
   "cell_type": "markdown",
   "metadata": {},
   "source": [
    "## 모델 구축"
   ]
  },
  {
   "cell_type": "code",
   "execution_count": 128,
   "metadata": {
    "scrolled": false
   },
   "outputs": [],
   "source": [
    "node_cnt = [512, label_cnt]\n",
    "\n",
    "#레이어를 선형으로 연결\n",
    "model = tf.keras.Sequential([\n",
    "    #tf.keras.layers.Flatten(input_shape=(X_train.shape[1]*X_train.shape[2], 1)),\n",
    "    #tf.keras.layers.Embedding()\n",
    "    tf.keras.layers.LSTM(node_cnt[0], activation='relu', input_shape=(20, 32)),\n",
    "    tf.keras.layers.Dense(node_cnt[-1], activation='softmax')\n",
    "])"
   ]
  },
  {
   "cell_type": "markdown",
   "metadata": {},
   "source": [
    "## 모델 컴파일"
   ]
  },
  {
   "cell_type": "code",
   "execution_count": 129,
   "metadata": {},
   "outputs": [],
   "source": [
    "model.compile(optimizer='adam', loss='sparse_categorical_crossentropy', metrics=['accuracy'])"
   ]
  },
  {
   "cell_type": "markdown",
   "metadata": {},
   "source": [
    "## 모델 학습"
   ]
  },
  {
   "cell_type": "code",
   "execution_count": 130,
   "metadata": {},
   "outputs": [
    {
     "name": "stdout",
     "output_type": "stream",
     "text": [
      "Train on 240 samples, validate on 60 samples\n",
      "Epoch 1/20\n",
      "240/240 [==============================] - 10s 42ms/sample - loss: 3.4699 - acc: 0.0250 - val_loss: 3.4573 - val_acc: 0.0000e+00\n",
      "Epoch 2/20\n",
      "240/240 [==============================] - 8s 34ms/sample - loss: 3.4000 - acc: 0.0375 - val_loss: 3.4576 - val_acc: 0.0167\n",
      "Epoch 3/20\n",
      "240/240 [==============================] - 8s 35ms/sample - loss: 3.3978 - acc: 0.0167 - val_loss: 3.4743 - val_acc: 0.0000e+00\n",
      "Epoch 4/20\n",
      "240/240 [==============================] - 8s 33ms/sample - loss: 3.3986 - acc: 0.0250 - val_loss: 3.4843 - val_acc: 0.0000e+00\n",
      "Epoch 5/20\n",
      "240/240 [==============================] - 8s 34ms/sample - loss: 3.3965 - acc: 0.0333 - val_loss: 3.4769 - val_acc: 0.0167\n",
      "Epoch 6/20\n",
      "240/240 [==============================] - 8s 34ms/sample - loss: 3.3868 - acc: 0.0417 - val_loss: 3.4992 - val_acc: 0.0167\n",
      "Epoch 7/20\n",
      "240/240 [==============================] - 8s 34ms/sample - loss: 3.3876 - acc: 0.0542 - val_loss: 3.4935 - val_acc: 0.0000e+00\n",
      "Epoch 8/20\n",
      "240/240 [==============================] - 9s 36ms/sample - loss: 3.3910 - acc: 0.0417 - val_loss: 3.4712 - val_acc: 0.0000e+00\n",
      "Epoch 9/20\n",
      "240/240 [==============================] - 9s 36ms/sample - loss: 3.3832 - acc: 0.0542 - val_loss: 3.4964 - val_acc: 0.0000e+00\n",
      "Epoch 10/20\n",
      "240/240 [==============================] - 9s 37ms/sample - loss: 3.3862 - acc: 0.0292 - val_loss: 3.4787 - val_acc: 0.0000e+00\n",
      "Epoch 11/20\n",
      "240/240 [==============================] - 9s 36ms/sample - loss: 3.3789 - acc: 0.0708 - val_loss: 3.4967 - val_acc: 0.0000e+00\n",
      "Epoch 12/20\n",
      "240/240 [==============================] - 8s 34ms/sample - loss: 3.3728 - acc: 0.0542 - val_loss: 3.4930 - val_acc: 0.0167\n",
      "Epoch 13/20\n",
      "240/240 [==============================] - 8s 35ms/sample - loss: 3.3574 - acc: 0.0500 - val_loss: 3.5186 - val_acc: 0.0000e+00\n",
      "Epoch 14/20\n",
      "240/240 [==============================] - 9s 37ms/sample - loss: 3.3524 - acc: 0.0708 - val_loss: 3.4984 - val_acc: 0.0000e+00\n",
      "Epoch 15/20\n",
      "240/240 [==============================] - 10s 41ms/sample - loss: 3.3679 - acc: 0.0667 - val_loss: 3.4999 - val_acc: 0.0000e+00\n",
      "Epoch 16/20\n",
      "240/240 [==============================] - 9s 38ms/sample - loss: 3.3698 - acc: 0.0583 - val_loss: 3.5072 - val_acc: 0.0000e+00\n",
      "Epoch 17/20\n",
      "240/240 [==============================] - 8s 35ms/sample - loss: 3.3414 - acc: 0.0708 - val_loss: 3.5279 - val_acc: 0.0167\n",
      "Epoch 18/20\n",
      "240/240 [==============================] - 8s 34ms/sample - loss: 3.3076 - acc: 0.0667 - val_loss: 3.8513 - val_acc: 0.0000e+00\n",
      "Epoch 19/20\n",
      "240/240 [==============================] - 9s 36ms/sample - loss: 3.3125 - acc: 0.0833 - val_loss: 3.4696 - val_acc: 0.0000e+00\n",
      "Epoch 20/20\n",
      "240/240 [==============================] - 8s 35ms/sample - loss: 3.3138 - acc: 0.0708 - val_loss: 3.4936 - val_acc: 0.0000e+00\n"
     ]
    },
    {
     "data": {
      "text/plain": [
       "<tensorflow.python.keras.callbacks.History at 0x1644656f240>"
      ]
     },
     "execution_count": 130,
     "metadata": {},
     "output_type": "execute_result"
    }
   ],
   "source": [
    "model.fit(X_train, Y_train, epochs=20, batch_size=10, verbose=1, validation_data=(X_eval, Y_eval))"
   ]
  },
  {
   "cell_type": "markdown",
   "metadata": {},
   "source": [
    "## 모델 평가"
   ]
  },
  {
   "cell_type": "code",
   "execution_count": 131,
   "metadata": {},
   "outputs": [
    {
     "name": "stdout",
     "output_type": "stream",
     "text": [
      " - 0s - loss: 3.4936 - acc: 0.0000e+00\n"
     ]
    }
   ],
   "source": [
    "loss, acc = model.evaluate(X_eval, Y_eval, verbose=2)"
   ]
  }
 ],
 "metadata": {
  "kernelspec": {
   "display_name": "Python 3",
   "language": "python",
   "name": "python3"
  },
  "language_info": {
   "codemirror_mode": {
    "name": "ipython",
    "version": 3
   },
   "file_extension": ".py",
   "mimetype": "text/x-python",
   "name": "python",
   "nbconvert_exporter": "python",
   "pygments_lexer": "ipython3",
   "version": "3.6.8"
  }
 },
 "nbformat": 4,
 "nbformat_minor": 2
}
