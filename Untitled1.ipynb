{
 "cells": [
  {
   "cell_type": "code",
   "execution_count": 26,
   "metadata": {},
   "outputs": [],
   "source": [
    "import os\n",
    "import librosa\n",
    "import matplotlib.pyplot as plt\n",
    "import numpy as np\n",
    "from sklearn.model_selection import train_test_split\n",
    "import tensorflow as tf\n",
    "import struct\n",
    "import binascii"
   ]
  },
  {
   "cell_type": "code",
   "execution_count": 27,
   "metadata": {},
   "outputs": [],
   "source": [
    "def ConvertWav(data, endian):\n",
    "    if endian == 'little':\n",
    "        if len(data) == 4:\n",
    "            data = struct.pack('<I', int(binascii.b2a_hex(data), 16))\n",
    "        else:\n",
    "            data = struct.pack('<h', int(binascii.b2a_hex(data), 16))\n",
    "    return binascii.b2a_hex(data)"
   ]
  },
  {
   "cell_type": "code",
   "execution_count": 28,
   "metadata": {},
   "outputs": [],
   "source": [
    "FILE_PATH = 'C:/Users/Kim JiHye/PycharmProjects/Voice_Overlay/git/practice_data/'\n",
    "word_folder = os.listdir(FILE_PATH)\n",
    "\n",
    "data = []\n",
    "data_path = []\n",
    "label = []\n",
    "i = -1\n",
    "for folder in word_folder:\n",
    "    path = FILE_PATH+folder+'/'\n",
    "    if not os.path.isdir(path):\n",
    "        continue\n",
    "    i += 1\n",
    "    file_list = [file for file in os.listdir(path) if file.endswith(\".wav\")]\n",
    "    for each in file_list[0 : min(10, len(file_list))]:\n",
    "        data_path.append(path+each)\n",
    "        file = open(data_path[-1], 'rb')\n",
    "        l1 = file.readline()\n",
    "        res, sr = librosa.load(data_path[-1], sr=int(ConvertWav(l1[24: 28], 'little'), 16))\n",
    "        data.append(res)\n",
    "        label.append(i)\n",
    "        file.close()\n",
    "\n",
    "data = np.array(data)\n",
    "label = np.array(label)\n",
    "data_path = np.array(data_path)"
   ]
  },
  {
   "cell_type": "code",
   "execution_count": 31,
   "metadata": {},
   "outputs": [],
   "source": [
    "mfcc = []\n",
    "\n",
    "max_padding = 0\n",
    "for i in range(len(data)):\n",
    "    res = librosa.feature.mfcc(y=data[i], sr=sr)\n",
    "    if max_padding < res.shape[1]:\n",
    "        max_padding = res.shape[1]\n",
    "    mfcc.append(res)\n",
    "\n",
    "#Data padding\n",
    "for i in range(len(mfcc)):\n",
    "    mfcc[i] = np.hstack((mfcc[i], np.zeros((mfcc[i].shape[0], max_padding-mfcc[i].shape[1]))))\n",
    "#end\n",
    "\n",
    "mfcc = np.array(mfcc)\n"
   ]
  },
  {
   "cell_type": "code",
   "execution_count": null,
   "metadata": {},
   "outputs": [],
   "source": [
    "np.save(\"./practice_data_preprocessing_complete/data.npy\", data)\n",
    "np.save(\"./practice_data_preprocessing_complete/mfcc.npy\", mfcc)\n",
    "np.save(\"./practice_data_preprocessing_complete/label.npy\", label)"
   ]
  },
  {
   "cell_type": "code",
   "execution_count": null,
   "metadata": {},
   "outputs": [],
   "source": [
    "data_path = \"./practice_data_preprocessing_complete/\"\n",
    "\n",
    "mfcc = np.load(data_path+'mfcc.npy')\n",
    "label = np.load(data_path+'label.npy')"
   ]
  },
  {
   "cell_type": "code",
   "execution_count": null,
   "metadata": {},
   "outputs": [],
   "source": [
    "\n",
    "mfcc, mfcc_test, label, label_test = train_test_split(mfcc, label, test_size=0.2, stratify=label, random_state=34)\n",
    "mfcc_train, mfcc_eval, label_train, label_eval = train_test_split(mfcc, label, test_size=0.25, stratify=label, random_state=34)\n",
    "\n",
    "# > train : eval : test = 3: 1: 1"
   ]
  },
  {
   "cell_type": "code",
   "execution_count": null,
   "metadata": {},
   "outputs": [],
   "source": [
    "dir_path = \"./practice_model_res/\"\n",
    "\n",
    "est = tf.estimator.Estimator(model_fn, model_dir=dir_path)\n",
    "est.train(train_fn)\n",
    "valid = est.evaluate(eval_fn)\n",
    "predict = est.predict(test_fn)"
   ]
  },
  {
   "cell_type": "code",
   "execution_count": null,
   "metadata": {},
   "outputs": [],
   "source": []
  },
  {
   "cell_type": "code",
   "execution_count": null,
   "metadata": {},
   "outputs": [],
   "source": []
  },
  {
   "cell_type": "code",
   "execution_count": null,
   "metadata": {},
   "outputs": [],
   "source": []
  },
  {
   "cell_type": "code",
   "execution_count": null,
   "metadata": {},
   "outputs": [],
   "source": []
  },
  {
   "cell_type": "code",
   "execution_count": null,
   "metadata": {},
   "outputs": [],
   "source": []
  },
  {
   "cell_type": "code",
   "execution_count": null,
   "metadata": {},
   "outputs": [],
   "source": []
  }
 ],
 "metadata": {
  "kernelspec": {
   "display_name": "Python 3",
   "language": "python",
   "name": "python3"
  },
  "language_info": {
   "codemirror_mode": {
    "name": "ipython",
    "version": 3
   },
   "file_extension": ".py",
   "mimetype": "text/x-python",
   "name": "python",
   "nbconvert_exporter": "python",
   "pygments_lexer": "ipython3",
   "version": "3.6.8"
  }
 },
 "nbformat": 4,
 "nbformat_minor": 2
}
